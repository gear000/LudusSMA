{
 "cells": [
  {
   "cell_type": "code",
   "execution_count": 3,
   "metadata": {},
   "outputs": [],
   "source": [
    "from PIL import Image, ImageFont, ImageDraw \n",
    "import requests\n",
    "import io\n"
   ]
  },
  {
   "cell_type": "code",
   "execution_count": 4,
   "metadata": {},
   "outputs": [],
   "source": [
    "def get_google_font(font: str, size=24):\n",
    "    \"\"\"\n",
    "    Questa funzione scarica temporaneamente da github.com/google/fonts/ il file .ttf del font desiderato.\n",
    "    font: stringa indicante il percorso del font su github.com/google/fonts/ nel formato cartella/font_file.ttf\n",
    "    size: dimensione del font\n",
    "    \"\"\"\n",
    "    url = f\"https://github.com/google/fonts/blob/main/ofl/{font}?raw=true\"\n",
    "    print(url)\n",
    "    r = requests.get(url, allow_redirects=True)\n",
    "    font = ImageFont.truetype(io.BytesIO(r.content), size=size)\n",
    "\n",
    "    return font\n",
    "\n",
    "def crop_image(my_image, aspect_ratio: tuple):\n",
    "    image  = my_image\n",
    "    width  = image.size[0]\n",
    "    height = image.size[1]\n",
    "\n",
    "    aspect_now = width / float(height)\n",
    "\n",
    "    ideal_width = aspect_ratio[0]\n",
    "    ideal_height = aspect_ratio[1]\n",
    "    ideal_aspect = ideal_width / float(ideal_height)\n",
    "\n",
    "    if aspect_now > ideal_aspect:\n",
    "        # Then crop the left and right edges:\n",
    "        new_width = int(ideal_aspect * height)\n",
    "        offset = (width - new_width) / 2\n",
    "        resize = (offset, 0, width - offset, height)\n",
    "    else:\n",
    "        # ... crop the top and bottom:\n",
    "        new_height = int(width / ideal_aspect)\n",
    "        offset = (height - new_height) / 2\n",
    "        resize = (0, offset, width, height - offset)\n",
    "\n",
    "    image = image.crop(resize).resize((ideal_width, ideal_height), Image.LANCZOS)\n",
    "    # img_path_cropped = \"CROPPED_\"+img_path\n",
    "    # thumb.save(img_path_cropped)\n",
    "    return image\n",
    "\n",
    "def write_on_image(my_image, edit_dict):\n",
    "    image_editable = ImageDraw.Draw(my_image)\n",
    "\n",
    "    for scope in edit_dict.keys():\n",
    "        # Get textbox dimensions from coordinates\n",
    "        box_w = edit_dict[scope][\"textbox\"][1][0] - edit_dict[scope][\"textbox\"][0][0]\n",
    "        box_h = edit_dict[scope][\"textbox\"][1][1] - edit_dict[scope][\"textbox\"][0][1]\n",
    "\n",
    "        # Get appropriate font size to make the text fit the box in a single line\n",
    "        max_size = edit_dict[scope][\"size\"] # Start from default font size\n",
    "        text_length = get_google_font(edit_dict[scope][\"font\"], max_size).getlength(edit_dict[scope][\"text\"]) # Get text length given font and size\n",
    "        # Finché il testo non ci sta nel box predefinito, riduco la size di 2 punti e riprovo\n",
    "        while text_length > box_w:\n",
    "            max_size -= 2\n",
    "            text_length = get_google_font(edit_dict[scope][\"font\"], max_size).getlength(edit_dict[scope][\"text\"])\n",
    "\n",
    "        image_editable.text(edit_dict[scope][\"position\"], \n",
    "                            edit_dict[scope][\"text\"],\n",
    "                            edit_dict[scope][\"color\"],\n",
    "                            anchor=edit_dict[scope][\"anchor\"],\n",
    "                            font=get_google_font(edit_dict[scope][\"font\"]\n",
    "                                                    , max_size))\n",
    "    \n",
    "    return my_image\n",
    "\n",
    "def image_edit(img_path: str, edit_dict: dict, crop=True):\n",
    "    \n",
    "    if crop:\n",
    "        # Carico immagine\n",
    "        my_image = Image.open(img_path) \n",
    "        # Crop immagine\n",
    "        my_image = crop_image(my_image, (648,1152))\n",
    "    else:\n",
    "        # Carico immagine\n",
    "        my_image = Image.open(img_path) \n",
    "\n",
    "    my_image = write_on_image(my_image, edit_dict)\n",
    "\n",
    "    # Salvataggio risutlato\n",
    "    my_image.save(\"EDIT_\"+img_path)"
   ]
  },
  {
   "cell_type": "code",
   "execution_count": 5,
   "metadata": {},
   "outputs": [
    {
     "name": "stdout",
     "output_type": "stream",
     "text": [
      "https://github.com/google/fonts/blob/main/ofl/montserratalternates/MontserratAlternates-Bold.ttf?raw=true\n",
      "https://github.com/google/fonts/blob/main/ofl/montserratalternates/MontserratAlternates-Bold.ttf?raw=true\n",
      "https://github.com/google/fonts/blob/main/ofl/montserratalternates/MontserratAlternates-Bold.ttf?raw=true\n",
      "https://github.com/google/fonts/blob/main/ofl/montserratalternates/MontserratAlternates-Bold.ttf?raw=true\n",
      "https://github.com/google/fonts/blob/main/ofl/montserratalternates/MontserratAlternates-Bold.ttf?raw=true\n"
     ]
    }
   ],
   "source": [
    "img_path = \"test_img.png\"\n",
    "\n",
    "# da fare:\n",
    "# - mettere posizione parametrica (e.g. titolo centrato)\n",
    "# https://stackoverflow.com/questions/1970807/center-middle-align-text-with-pil\n",
    "# https://pillow.readthedocs.io/en/stable/handbook/text-anchors.html\n",
    "# - scegliere colore testo parametrico, adatto all'immagine\n",
    "\n",
    "\n",
    "edit_dict = {\n",
    "    \"title\": {\"text\": \"Torneo di Bang\",\n",
    "                \"font\": \"montserratalternates/MontserratAlternates-Bold.ttf\",\n",
    "                \"size\": 90, \n",
    "                \"color\": (55, 0, 134),\n",
    "                \"position\":(324,100),\n",
    "                \"anchor\":\"mm\"},\n",
    "    \"body\": {\"text\": \"\",\n",
    "                \"font\": \"montserratalternates/MontserratAlternates-Bold.ttf\",\n",
    "                \"size\": 80, \n",
    "                \"color\": (55, 0, 134),\n",
    "                \"position\":(0,0),\n",
    "                \"anchor\":\"mm\"},\n",
    "    \"location\": {\"text\": \"Centro NOI di Povegliano\",\n",
    "                \"font\": \"montserratalternates/MontserratAlternates-Bold.ttf\",\n",
    "                \"size\": 40, \n",
    "                \"color\": (55, 0, 134),\n",
    "                \"position\":(0,900),\n",
    "                \"anchor\":\"lb\"},\n",
    "    \"time\": {\"text\": \"Mercoledì 31 febbraio ore 21:00\",\n",
    "                \"font\": \"montserratalternates/MontserratAlternates-Bold.ttf\",\n",
    "                \"size\": 40, \n",
    "                \"color\": (55, 0, 134),\n",
    "                \"position\":(0,950),\n",
    "                \"anchor\":\"lb\"},\n",
    "    \"time\": {\"text\": \"21:00\",\n",
    "                \"font\": \"montserratalternates/MontserratAlternates-Bold.ttf\",\n",
    "                \"size\": 40, \n",
    "                \"color\": (55, 0, 134),\n",
    "                \"position\":(0,950),\n",
    "                \"anchor\":\"lb\"},\n",
    "    \"cost\": {\"text\": \"Iscrizione libera\",\n",
    "                \"font\": \"montserratalternates/MontserratAlternates-Bold.ttf\",\n",
    "                \"size\": 40, \n",
    "                \"color\": (55, 0, 134),\n",
    "                \"position\":(0,1000),\n",
    "                \"anchor\":\"lb\"}\n",
    "}\n",
    "\n",
    "img_path_edit = image_edit(img_path, edit_dict)"
   ]
  },
  {
   "cell_type": "code",
   "execution_count": 9,
   "metadata": {},
   "outputs": [
    {
     "name": "stdout",
     "output_type": "stream",
     "text": [
      "https://github.com/google/fonts/blob/main/ofl/montserratalternates/MontserratAlternates-Bold.ttf?raw=true\n"
     ]
    }
   ],
   "source": [
    "img = Image.open(\"test_img.png\")\n",
    "draw = ImageDraw.Draw(img)\n",
    "font = get_google_font(\"montserratalternates/MontserratAlternates-Bold.ttf\"\n",
    "                                                    , 80)\n",
    "\n",
    "# width,height= draw.textsize(\"Sample Text\", font=font)\n",
    "draw.multiline_text((100, 100),\"Sample Text Sample Text Sample Text Sample Text\",(255,255,255),font=font, align='center')\n",
    "img.save('sample-out.jpg')"
   ]
  },
  {
   "cell_type": "code",
   "execution_count": 13,
   "metadata": {},
   "outputs": [
    {
     "name": "stdout",
     "output_type": "stream",
     "text": [
      "https://github.com/google/fonts/blob/main/ofl/montserratalternates/MontserratAlternates-Bold.ttf?raw=true\n"
     ]
    }
   ],
   "source": [
    "from PIL import Image, ImageDraw, ImageFont\n",
    "import textwrap\n",
    "\n",
    "astr = '''The rain in Spain falls mainly on the plains.'''\n",
    "para = textwrap.wrap(astr, width=15)\n",
    "\n",
    "MAX_W, MAX_H = 648,1152\n",
    "img = Image.open(\"test_img.png\")\n",
    "img = crop_image(img, (648,1152))\n",
    "draw = ImageDraw.Draw(img)\n",
    "font = get_google_font(\"montserratalternates/MontserratAlternates-Bold.ttf\"\n",
    "                                                    , 80)\n",
    "\n",
    "current_h, pad = 50, 10\n",
    "for line in para:\n",
    "    w, h = draw.textlength(line, font=font), 80\n",
    "    draw.text(((MAX_W - w) / 2, current_h), line, font=font)\n",
    "    current_h += h + pad\n",
    "\n",
    "img.save('test.png')"
   ]
  },
  {
   "cell_type": "code",
   "execution_count": 1,
   "metadata": {},
   "outputs": [
    {
     "data": {
      "text/plain": [
       "1"
      ]
     },
     "execution_count": 1,
     "metadata": {},
     "output_type": "execute_result"
    }
   ],
   "source": [
    "int(1.5)"
   ]
  },
  {
   "cell_type": "code",
   "execution_count": 22,
   "metadata": {},
   "outputs": [],
   "source": [
    "from PIL import Image, ImageDraw, ImageFont\n",
    "import textwrap\n",
    "img = Image.open(\"test_img.png\")\n",
    "img = crop_image(img, (648,1152))\n",
    "\n",
    "draw = ImageDraw.Draw(img)\n",
    "draw.rectangle(((50, 30), (600, 170)), width=3) # TITOLO\n",
    "draw.rectangle(((50, 170), (600, 270)), width=3) # BODY\n",
    "draw.rectangle(((50, 860), (324, 920)), width=3) # DATE\n",
    "draw.rectangle(((50, 920), (324, 980)), width=3) # TIME\n",
    "draw.rectangle(((50, 980), (324, 1040)), width=3) # LOCATION\n",
    "draw.rectangle(((50, 1040), (324, 1100)), width=3) # COST\n",
    "\n",
    "\n",
    "\n",
    "img.save('layout_example.png')"
   ]
  },
  {
   "cell_type": "code",
   "execution_count": null,
   "metadata": {},
   "outputs": [],
   "source": []
  },
  {
   "cell_type": "code",
   "execution_count": null,
   "metadata": {},
   "outputs": [],
   "source": []
  },
  {
   "cell_type": "code",
   "execution_count": null,
   "metadata": {},
   "outputs": [],
   "source": []
  },
  {
   "cell_type": "code",
   "execution_count": null,
   "metadata": {},
   "outputs": [],
   "source": []
  },
  {
   "cell_type": "code",
   "execution_count": null,
   "metadata": {},
   "outputs": [],
   "source": []
  }
 ],
 "metadata": {
  "kernelspec": {
   "display_name": "venv",
   "language": "python",
   "name": "python3"
  },
  "language_info": {
   "codemirror_mode": {
    "name": "ipython",
    "version": 3
   },
   "file_extension": ".py",
   "mimetype": "text/x-python",
   "name": "python",
   "nbconvert_exporter": "python",
   "pygments_lexer": "ipython3",
   "version": "3.11.9"
  }
 },
 "nbformat": 4,
 "nbformat_minor": 2
}
