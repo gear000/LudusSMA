{
 "cells": [
  {
   "cell_type": "code",
   "execution_count": 3,
   "metadata": {},
   "outputs": [],
   "source": [
    "from PIL import Image, ImageFont, ImageDraw \n",
    "import requests\n",
    "import io\n"
   ]
  },
  {
   "cell_type": "code",
   "execution_count": 4,
   "metadata": {},
   "outputs": [],
   "source": [
    "def get_google_font(font: str, size=24):\n",
    "    \"\"\"\n",
    "    Questa funzione scarica temporaneamente da github.com/google/fonts/ il file .ttf del font desiderato.\n",
    "    font: stringa indicante il percorso del font su github.com/google/fonts/ nel formato cartella/font_file.ttf\n",
    "    size: dimensione del font\n",
    "    \"\"\"\n",
    "    url = f\"https://github.com/google/fonts/blob/main/ofl/{font}?raw=true\"\n",
    "    print(url)\n",
    "    r = requests.get(url, allow_redirects=True)\n",
    "    font = ImageFont.truetype(io.BytesIO(r.content), size=size)\n",
    "\n",
    "    return font\n",
    "\n",
    "def crop_image(my_image, aspect_ratio: tuple):\n",
    "    image  = my_image\n",
    "    width  = image.size[0]\n",
    "    height = image.size[1]\n",
    "\n",
    "    aspect_now = width / float(height)\n",
    "\n",
    "    ideal_width = aspect_ratio[0]\n",
    "    ideal_height = aspect_ratio[1]\n",
    "    ideal_aspect = ideal_width / float(ideal_height)\n",
    "\n",
    "    if aspect_now > ideal_aspect:\n",
    "        # Then crop the left and right edges:\n",
    "        new_width = int(ideal_aspect * height)\n",
    "        offset = (width - new_width) / 2\n",
    "        resize = (offset, 0, width - offset, height)\n",
    "    else:\n",
    "        # ... crop the top and bottom:\n",
    "        new_height = int(width / ideal_aspect)\n",
    "        offset = (height - new_height) / 2\n",
    "        resize = (0, offset, width, height - offset)\n",
    "\n",
    "    image = image.crop(resize).resize((ideal_width, ideal_height), Image.LANCZOS)\n",
    "    # img_path_cropped = \"CROPPED_\"+img_path\n",
    "    # thumb.save(img_path_cropped)\n",
    "    return image\n",
    "\n",
    "def write_on_image(my_image, edit_dict):\n",
    "    image_editable = ImageDraw.Draw(my_image)\n",
    "\n",
    "    for scope in edit_dict.keys():\n",
    "        # Get textbox dimensions from coordinates\n",
    "        box_w = edit_dict[scope][\"textbox\"][1][0] - edit_dict[scope][\"textbox\"][0][0]\n",
    "        box_h = edit_dict[scope][\"textbox\"][1][1] - edit_dict[scope][\"textbox\"][0][1]\n",
    "\n",
    "        # Get appropriate font size to make the text fit the box in a single line\n",
    "        max_size = edit_dict[scope][\"size\"] # Start from default font size\n",
    "        text_length = get_google_font(edit_dict[scope][\"font\"], max_size).getlength(edit_dict[scope][\"text\"]) # Get text length given font and size\n",
    "        # Finché il testo non ci sta nel box predefinito, riduco la size di 2 punti e riprovo\n",
    "        while text_length > box_w:\n",
    "            max_size -= 2\n",
    "            text_length = get_google_font(edit_dict[scope][\"font\"], max_size).getlength(edit_dict[scope][\"text\"])\n",
    "\n",
    "        image_editable.text(edit_dict[scope][\"position\"], \n",
    "                            edit_dict[scope][\"text\"],\n",
    "                            edit_dict[scope][\"color\"],\n",
    "                            anchor=edit_dict[scope][\"anchor\"],\n",
    "                            font=get_google_font(edit_dict[scope][\"font\"]\n",
    "                                                    , max_size))\n",
    "    \n",
    "    return my_image\n",
    "\n",
    "def image_edit(img_path: str, edit_dict: dict, crop=True):\n",
    "    \n",
    "    if crop:\n",
    "        # Carico immagine\n",
    "        my_image = Image.open(img_path) \n",
    "        # Crop immagine\n",
    "        my_image = crop_image(my_image, (648,1152))\n",
    "    else:\n",
    "        # Carico immagine\n",
    "        my_image = Image.open(img_path) \n",
    "\n",
    "    my_image = write_on_image(my_image, edit_dict)\n",
    "\n",
    "    # Salvataggio risutlato\n",
    "    my_image.save(\"EDIT_\"+img_path)"
   ]
  },
  {
   "cell_type": "code",
   "execution_count": 5,
   "metadata": {},
   "outputs": [
    {
     "name": "stdout",
     "output_type": "stream",
     "text": [
      "https://github.com/google/fonts/blob/main/ofl/montserratalternates/MontserratAlternates-Bold.ttf?raw=true\n",
      "https://github.com/google/fonts/blob/main/ofl/montserratalternates/MontserratAlternates-Bold.ttf?raw=true\n",
      "https://github.com/google/fonts/blob/main/ofl/montserratalternates/MontserratAlternates-Bold.ttf?raw=true\n",
      "https://github.com/google/fonts/blob/main/ofl/montserratalternates/MontserratAlternates-Bold.ttf?raw=true\n",
      "https://github.com/google/fonts/blob/main/ofl/montserratalternates/MontserratAlternates-Bold.ttf?raw=true\n"
     ]
    }
   ],
   "source": [
    "img_path = \"test_img.png\"\n",
    "\n",
    "# da fare:\n",
    "# - mettere posizione parametrica (e.g. titolo centrato)\n",
    "# https://stackoverflow.com/questions/1970807/center-middle-align-text-with-pil\n",
    "# https://pillow.readthedocs.io/en/stable/handbook/text-anchors.html\n",
    "# - scegliere colore testo parametrico, adatto all'immagine\n",
    "\n",
    "\n",
    "edit_dict = {\n",
    "    \"title\": {\"text\": \"Torneo di Bang\",\n",
    "                \"font\": \"montserratalternates/MontserratAlternates-Bold.ttf\",\n",
    "                \"size\": 90, \n",
    "                \"color\": (55, 0, 134),\n",
    "                \"position\":(324,100),\n",
    "                \"anchor\":\"mm\"},\n",
    "    \"body\": {\"text\": \"\",\n",
    "                \"font\": \"montserratalternates/MontserratAlternates-Bold.ttf\",\n",
    "                \"size\": 80, \n",
    "                \"color\": (55, 0, 134),\n",
    "                \"position\":(0,0),\n",
    "                \"anchor\":\"mm\"},\n",
    "    \"location\": {\"text\": \"Centro NOI di Povegliano\",\n",
    "                \"font\": \"montserratalternates/MontserratAlternates-Bold.ttf\",\n",
    "                \"size\": 40, \n",
    "                \"color\": (55, 0, 134),\n",
    "                \"position\":(0,900),\n",
    "                \"anchor\":\"lb\"},\n",
    "    \"time\": {\"text\": \"Mercoledì 31 febbraio ore 21:00\",\n",
    "                \"font\": \"montserratalternates/MontserratAlternates-Bold.ttf\",\n",
    "                \"size\": 40, \n",
    "                \"color\": (55, 0, 134),\n",
    "                \"position\":(0,950),\n",
    "                \"anchor\":\"lb\"},\n",
    "    \"time\": {\"text\": \"21:00\",\n",
    "                \"font\": \"montserratalternates/MontserratAlternates-Bold.ttf\",\n",
    "                \"size\": 40, \n",
    "                \"color\": (55, 0, 134),\n",
    "                \"position\":(0,950),\n",
    "                \"anchor\":\"lb\"},\n",
    "    \"cost\": {\"text\": \"Iscrizione libera\",\n",
    "                \"font\": \"montserratalternates/MontserratAlternates-Bold.ttf\",\n",
    "                \"size\": 40, \n",
    "                \"color\": (55, 0, 134),\n",
    "                \"position\":(0,1000),\n",
    "                \"anchor\":\"lb\"}\n",
    "}\n",
    "\n",
    "img_path_edit = image_edit(img_path, edit_dict)"
   ]
  },
  {
   "cell_type": "code",
   "execution_count": 9,
   "metadata": {},
   "outputs": [
    {
     "name": "stdout",
     "output_type": "stream",
     "text": [
      "https://github.com/google/fonts/blob/main/ofl/montserratalternates/MontserratAlternates-Bold.ttf?raw=true\n"
     ]
    }
   ],
   "source": [
    "img = Image.open(\"test_img.png\")\n",
    "draw = ImageDraw.Draw(img)\n",
    "font = get_google_font(\"montserratalternates/MontserratAlternates-Bold.ttf\"\n",
    "                                                    , 80)\n",
    "\n",
    "# width,height= draw.textsize(\"Sample Text\", font=font)\n",
    "draw.multiline_text((100, 100),\"Sample Text Sample Text Sample Text Sample Text\",(255,255,255),font=font, align='center')\n",
    "img.save('sample-out.jpg')"
   ]
  },
  {
   "cell_type": "code",
   "execution_count": 13,
   "metadata": {},
   "outputs": [
    {
     "name": "stdout",
     "output_type": "stream",
     "text": [
      "https://github.com/google/fonts/blob/main/ofl/montserratalternates/MontserratAlternates-Bold.ttf?raw=true\n"
     ]
    }
   ],
   "source": [
    "from PIL import Image, ImageDraw, ImageFont\n",
    "import textwrap\n",
    "\n",
    "astr = '''The rain in Spain falls mainly on the plains.'''\n",
    "para = textwrap.wrap(astr, width=15)\n",
    "\n",
    "MAX_W, MAX_H = 648,1152\n",
    "img = Image.open(\"test_img.png\")\n",
    "img = crop_image(img, (648,1152))\n",
    "draw = ImageDraw.Draw(img)\n",
    "font = get_google_font(\"montserratalternates/MontserratAlternates-Bold.ttf\"\n",
    "                                                    , 80)\n",
    "\n",
    "current_h, pad = 50, 10\n",
    "for line in para:\n",
    "    w, h = draw.textlength(line, font=font), 80\n",
    "    draw.text(((MAX_W - w) / 2, current_h), line, font=font)\n",
    "    current_h += h + pad\n",
    "\n",
    "img.save('test.png')"
   ]
  },
  {
   "cell_type": "code",
   "execution_count": 1,
   "metadata": {},
   "outputs": [
    {
     "data": {
      "text/plain": [
       "1"
      ]
     },
     "execution_count": 1,
     "metadata": {},
     "output_type": "execute_result"
    }
   ],
   "source": [
    "int(1.5)"
   ]
  },
  {
   "cell_type": "code",
   "execution_count": 22,
   "metadata": {},
   "outputs": [],
   "source": [
    "from PIL import Image, ImageDraw, ImageFont\n",
    "import textwrap\n",
    "img = Image.open(\"test_img.png\")\n",
    "img = crop_image(img, (648,1152))\n",
    "\n",
    "draw = ImageDraw.Draw(img)\n",
    "draw.rectangle(((50, 30), (600, 170)), width=3) # TITOLO\n",
    "draw.rectangle(((50, 170), (600, 270)), width=3) # BODY\n",
    "draw.rectangle(((50, 860), (324, 920)), width=3) # DATE\n",
    "draw.rectangle(((50, 920), (324, 980)), width=3) # TIME\n",
    "draw.rectangle(((50, 980), (324, 1040)), width=3) # LOCATION\n",
    "draw.rectangle(((50, 1040), (324, 1100)), width=3) # COST\n",
    "\n",
    "\n",
    "\n",
    "img.save('layout_example.png')"
   ]
  },
  {
   "cell_type": "markdown",
   "metadata": {},
   "source": []
  },
  {
   "cell_type": "code",
   "execution_count": 2,
   "metadata": {},
   "outputs": [],
   "source": [
    "import sys\n",
    "from pathlib import Path\n",
    "sys.path.insert(0,str(Path.cwd().parent))\n",
    "import utils.aws_utils as aws_utils"
   ]
  },
  {
   "cell_type": "code",
   "execution_count": 4,
   "metadata": {},
   "outputs": [],
   "source": [
    "sys.path.insert(0,'c:\\\\Users\\\\rican\\\\OneDrive\\\\Documenti\\\\GitHub\\\\LudusSMA')"
   ]
  },
  {
   "cell_type": "code",
   "execution_count": 5,
   "metadata": {},
   "outputs": [
    {
     "data": {
      "text/plain": [
       "['c:\\\\Users\\\\rican\\\\OneDrive\\\\Documenti\\\\GitHub\\\\LudusSMA',\n",
       " 'c:\\\\Users\\\\rican\\\\OneDrive\\\\Documenti\\\\GitHub\\\\LudusSMA\\\\lambda_functions',\n",
       " 'C:\\\\Users\\\\rican\\\\AppData\\\\Local\\\\Programs\\\\Python\\\\Python311\\\\python311.zip',\n",
       " 'C:\\\\Users\\\\rican\\\\AppData\\\\Local\\\\Programs\\\\Python\\\\Python311\\\\DLLs',\n",
       " 'C:\\\\Users\\\\rican\\\\AppData\\\\Local\\\\Programs\\\\Python\\\\Python311\\\\Lib',\n",
       " 'C:\\\\Users\\\\rican\\\\AppData\\\\Local\\\\Programs\\\\Python\\\\Python311',\n",
       " 'c:\\\\Users\\\\rican\\\\OneDrive\\\\Documenti\\\\GitHub\\\\LudusSMA\\\\.venv',\n",
       " '',\n",
       " 'c:\\\\Users\\\\rican\\\\OneDrive\\\\Documenti\\\\GitHub\\\\LudusSMA\\\\.venv\\\\Lib\\\\site-packages',\n",
       " 'c:\\\\Users\\\\rican\\\\OneDrive\\\\Documenti\\\\GitHub\\\\LudusSMA\\\\.venv\\\\Lib\\\\site-packages\\\\win32',\n",
       " 'c:\\\\Users\\\\rican\\\\OneDrive\\\\Documenti\\\\GitHub\\\\LudusSMA\\\\.venv\\\\Lib\\\\site-packages\\\\win32\\\\lib',\n",
       " 'c:\\\\Users\\\\rican\\\\OneDrive\\\\Documenti\\\\GitHub\\\\LudusSMA\\\\.venv\\\\Lib\\\\site-packages\\\\Pythonwin',\n",
       " 'c:\\\\Users\\\\rican\\\\OneDrive\\\\Documenti\\\\GitHub\\\\LudusSMA\\\\lambda_functions']"
      ]
     },
     "execution_count": 5,
     "metadata": {},
     "output_type": "execute_result"
    }
   ],
   "source": [
    "sys.path"
   ]
  },
  {
   "cell_type": "code",
   "execution_count": 1,
   "metadata": {},
   "outputs": [],
   "source": [
    "import os"
   ]
  },
  {
   "cell_type": "code",
   "execution_count": 3,
   "metadata": {},
   "outputs": [
    {
     "name": "stdout",
     "output_type": "stream",
     "text": [
      "c:\\Users\\rican\\OneDrive\\Documenti\\GitHub\\LudusSMA\\.venv\\Scripts;C:\\Users\\rican\\OneDrive\\Documenti\\GitHub\\LudusSMA\\.venv\\Scripts;C:\\WINDOWS\\system32;C:\\WINDOWS;C:\\WINDOWS\\System32\\Wbem;C:\\WINDOWS\\System32\\WindowsPowerShell\\v1.0\\;C:\\WINDOWS\\System32\\OpenSSH\\;C:\\Program Files\\Amazon\\AWSCLIV2\\;C:\\Program Files\\Git\\cmd;C:\\Users\\rican\\AppData\\Local\\Programs\\Python\\Python311\\Scripts\\;C:\\Users\\rican\\AppData\\Local\\Programs\\Python\\Python311\\;C:\\Users\\rican\\AppData\\Local\\Microsoft\\WindowsApps;C:\\Users\\rican\\AppData\\Local\\GitHubDesktop\\bin;;C:\\Users\\rican\\AppData\\Local\\Programs\\Microsoft VS Code\\bin\n"
     ]
    }
   ],
   "source": [
    "print(os.environ[\"PATH\"])"
   ]
  },
  {
   "cell_type": "code",
   "execution_count": 5,
   "metadata": {},
   "outputs": [],
   "source": [
    "os.environ[\"PATH\"]+='c:\\\\Users\\\\rican\\\\OneDrive\\\\Documenti\\\\GitHub\\\\LudusSMA'\n"
   ]
  },
  {
   "cell_type": "code",
   "execution_count": 9,
   "metadata": {},
   "outputs": [],
   "source": [
    "os.environ[\"PATH\"]=os.environ[\"PATH\"].replace('c:\\\\Users\\\\rican\\\\OneDrive\\\\Documenti\\\\GitHub\\\\LudusSMA', ';c:\\\\Users\\\\rican\\\\OneDrive\\\\Documenti\\\\GitHub\\\\LudusSMA')"
   ]
  },
  {
   "cell_type": "code",
   "execution_count": 10,
   "metadata": {},
   "outputs": [
    {
     "data": {
      "text/plain": [
       "';c:\\\\Users\\\\rican\\\\OneDrive\\\\Documenti\\\\GitHub\\\\LudusSMA\\\\.venv\\\\Scripts;C:\\\\Users\\\\rican\\\\OneDrive\\\\Documenti\\\\GitHub\\\\LudusSMA\\\\.venv\\\\Scripts;C:\\\\WINDOWS\\\\system32;C:\\\\WINDOWS;C:\\\\WINDOWS\\\\System32\\\\Wbem;C:\\\\WINDOWS\\\\System32\\\\WindowsPowerShell\\\\v1.0\\\\;C:\\\\WINDOWS\\\\System32\\\\OpenSSH\\\\;C:\\\\Program Files\\\\Amazon\\\\AWSCLIV2\\\\;C:\\\\Program Files\\\\Git\\\\cmd;C:\\\\Users\\\\rican\\\\AppData\\\\Local\\\\Programs\\\\Python\\\\Python311\\\\Scripts\\\\;C:\\\\Users\\\\rican\\\\AppData\\\\Local\\\\Programs\\\\Python\\\\Python311\\\\;C:\\\\Users\\\\rican\\\\AppData\\\\Local\\\\Microsoft\\\\WindowsApps;C:\\\\Users\\\\rican\\\\AppData\\\\Local\\\\GitHubDesktop\\\\bin;;C:\\\\Users\\\\rican\\\\AppData\\\\Local\\\\Programs\\\\Microsoft VS Code\\\\bin;c:\\\\Users\\\\rican\\\\OneDrive\\\\Documenti\\\\GitHub\\\\LudusSMA'"
      ]
     },
     "execution_count": 10,
     "metadata": {},
     "output_type": "execute_result"
    }
   ],
   "source": [
    "os.environ[\"PATH\"]"
   ]
  },
  {
   "cell_type": "markdown",
   "metadata": {},
   "source": [
    "# TEST SEZIONE CONTATTI"
   ]
  },
  {
   "cell_type": "code",
   "execution_count": 7,
   "metadata": {},
   "outputs": [],
   "source": [
    "\n",
    "import requests\n",
    "import io\n",
    "\n",
    "def crop_image(my_image, aspect_ratio: tuple):\n",
    "    image  = my_image\n",
    "    width  = image.size[0]\n",
    "    height = image.size[1]\n",
    "\n",
    "    aspect_now = width / float(height)\n",
    "\n",
    "    ideal_width = aspect_ratio[0]\n",
    "    ideal_height = aspect_ratio[1]\n",
    "    ideal_aspect = ideal_width / float(ideal_height)\n",
    "\n",
    "    if aspect_now > ideal_aspect:\n",
    "        # Then crop the left and right edges:\n",
    "        new_width = int(ideal_aspect * height)\n",
    "        offset = (width - new_width) / 2\n",
    "        resize = (offset, 0, width - offset, height)\n",
    "    else:\n",
    "        # ... crop the top and bottom:\n",
    "        new_height = int(width / ideal_aspect)\n",
    "        offset = (height - new_height) / 2\n",
    "        resize = (0, offset, width, height - offset)\n",
    "\n",
    "    image = image.crop(resize).resize((ideal_width, ideal_height), Image.LANCZOS)\n",
    "    # img_path_cropped = \"CROPPED_\"+img_path\n",
    "    # thumb.save(img_path_cropped)\n",
    "    return image\n",
    "def get_google_font(font: str, size=24):\n",
    "    # MIGLIORIA: SCARICARE IL FONT SOLO UNA VOLTA E TENERLO BUONO PER TUTTE LE SEZIONI\n",
    "    # E' POSSIBILE? FORSE NO PERCHé VA SCARICATO PER LA SIZE SPECIFICA DI QUEL TESTO\n",
    "    \"\"\"\n",
    "    Questa funzione scarica temporaneamente da github.com/google/fonts/ il file .ttf del font desiderato.\n",
    "    font: stringa indicante il percorso del font su github.com/google/fonts/ nel formato cartella/font_file.ttf\n",
    "    size: dimensione del font\n",
    "    \"\"\"\n",
    "    url = f\"https://github.com/google/fonts/blob/main/ofl/{font}?raw=true\"\n",
    "    r = requests.get(url, allow_redirects=True)\n",
    "    font = ImageFont.truetype(io.BytesIO(r.content), size=size)\n",
    "\n",
    "    return font"
   ]
  },
  {
   "cell_type": "code",
   "execution_count": 19,
   "metadata": {},
   "outputs": [
    {
     "name": "stdout",
     "output_type": "stream",
     "text": [
      "email\n",
      "whatsapp\n",
      "insta_dm\n"
     ]
    }
   ],
   "source": [
    "# TEST SEZIONE CONTATTI\n",
    "ICONS_PATH = \"../../images/icons/\"\n",
    "# contacts = {\n",
    "#     \"email\": {\"text\": \"ludusgate@gmail.com\",\n",
    "#                 \"icon\":\"email-color.png\"},\n",
    "#     \"whatsapp\": {\"text\": \"34X XXX XX XX\",\n",
    "#                 \"icon\":\"whatsapp-logo-color.png\"},\n",
    "#     \"insta_dm\": {\"text\": \"DM: @ludusgate\",\n",
    "#                 \"icon\":\"instagram-color.png\"}\n",
    "# }\n",
    "# contacts_font_size = 30\n",
    "# color = (255,255,255)\n",
    "# STROKE_WIDTH = 2\n",
    "# STROKE_COLOR = (0,0,0)\n",
    "# font = \"montserratalternates/MontserratAlternates-Bold.ttf\"\n",
    "# contacts_start_point = (50,1000)\n",
    "# contacts_end_point = ()\n",
    "\n",
    "from PIL import Image, ImageDraw, ImageFont\n",
    "img = Image.open(\"test_img.png\")\n",
    "img = crop_image(img, (648,1152))\n",
    "\n",
    "image_editable = ImageDraw.Draw(img)\n",
    "\n",
    "\n",
    "writing_cursor_y = contacts_start_point[1]\n",
    "for contact in contacts.keys():\n",
    "    writing_cursor_x = contacts_start_point[0]\n",
    "    print(contact)\n",
    "    # Get icon\n",
    "    icon_path = ICONS_PATH+contacts[contact][\"icon\"]\n",
    "    icon = Image.open(icon_path)\n",
    "    # Resize icon\n",
    "    icon.thumbnail((contacts_font_size, contacts_font_size), Image.Resampling.LANCZOS)\n",
    "    # Paste the icon on the image\n",
    "    icon_position = (int(writing_cursor_x), int(writing_cursor_y))\n",
    "    img.paste(icon, icon_position, mask=icon)\n",
    "    writing_cursor_x += contacts_font_size+5 # più un margine\n",
    "\n",
    "    text = contacts[contact][\"text\"]\n",
    "    text_position = (int(writing_cursor_x), int(writing_cursor_y))\n",
    "    # text_len = get_google_font(font, contacts_font_size).getlength(text)\n",
    "\n",
    "    image_editable.text(text_position, text,\n",
    "                        color,\n",
    "                        font=get_google_font(font, contacts_font_size),\n",
    "                                    stroke_width=STROKE_WIDTH,\n",
    "                                    stroke_fill=STROKE_COLOR)\n",
    "    writing_cursor_y += contacts_font_size+5\n",
    "\n",
    "\n",
    "\n",
    "\n",
    "img.save(\"TEST_CONTACTS.png\")\n",
    "\n"
   ]
  },
  {
   "cell_type": "code",
   "execution_count": 20,
   "metadata": {},
   "outputs": [
    {
     "data": {
      "text/plain": [
       "['c:\\\\Users\\\\Riccardo\\\\Documents\\\\GitHub\\\\LudusSMA\\\\lambda_functions\\\\create_ig_stories',\n",
       " 'C:\\\\Users\\\\Riccardo\\\\AppData\\\\Local\\\\Programs\\\\Python\\\\Python311\\\\python311.zip',\n",
       " 'C:\\\\Users\\\\Riccardo\\\\AppData\\\\Local\\\\Programs\\\\Python\\\\Python311\\\\DLLs',\n",
       " 'C:\\\\Users\\\\Riccardo\\\\AppData\\\\Local\\\\Programs\\\\Python\\\\Python311\\\\Lib',\n",
       " 'C:\\\\Users\\\\Riccardo\\\\AppData\\\\Local\\\\Programs\\\\Python\\\\Python311',\n",
       " 'c:\\\\Users\\\\Riccardo\\\\Documents\\\\GitHub\\\\LudusSMA\\\\venv',\n",
       " '',\n",
       " 'c:\\\\Users\\\\Riccardo\\\\Documents\\\\GitHub\\\\LudusSMA\\\\venv\\\\Lib\\\\site-packages',\n",
       " 'c:\\\\Users\\\\Riccardo\\\\Documents\\\\GitHub\\\\LudusSMA\\\\venv\\\\Lib\\\\site-packages\\\\win32',\n",
       " 'c:\\\\Users\\\\Riccardo\\\\Documents\\\\GitHub\\\\LudusSMA\\\\venv\\\\Lib\\\\site-packages\\\\win32\\\\lib',\n",
       " 'c:\\\\Users\\\\Riccardo\\\\Documents\\\\GitHub\\\\LudusSMA\\\\venv\\\\Lib\\\\site-packages\\\\Pythonwin']"
      ]
     },
     "execution_count": 20,
     "metadata": {},
     "output_type": "execute_result"
    }
   ],
   "source": [
    "import sys\n",
    "sys.path"
   ]
  },
  {
   "cell_type": "code",
   "execution_count": null,
   "metadata": {},
   "outputs": [],
   "source": []
  },
  {
   "cell_type": "code",
   "execution_count": null,
   "metadata": {},
   "outputs": [],
   "source": []
  },
  {
   "cell_type": "code",
   "execution_count": null,
   "metadata": {},
   "outputs": [],
   "source": []
  }
 ],
 "metadata": {
  "kernelspec": {
   "display_name": "venv",
   "language": "python",
   "name": "python3"
  },
  "language_info": {
   "codemirror_mode": {
    "name": "ipython",
    "version": 3
   },
   "file_extension": ".py",
   "mimetype": "text/x-python",
   "name": "python",
   "nbconvert_exporter": "python",
   "pygments_lexer": "ipython3",
   "version": "3.11.9"
  }
 },
 "nbformat": 4,
 "nbformat_minor": 2
}
